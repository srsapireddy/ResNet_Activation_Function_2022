{
  "nbformat": 4,
  "nbformat_minor": 0,
  "metadata": {
    "colab": {
      "name": "sigmoid_curve_fitting.ipynb",
      "provenance": []
    },
    "kernelspec": {
      "name": "python3",
      "display_name": "Python 3"
    },
    "language_info": {
      "name": "python"
    }
  },
  "cells": [
    {
      "cell_type": "code",
      "execution_count": 1,
      "metadata": {
        "colab": {
          "base_uri": "https://localhost:8080/",
          "height": 265
        },
        "id": "eQ0crJebu-9Y",
        "outputId": "583e16b6-c299-4bc6-ddf9-65db9b6481bb"
      },
      "outputs": [
        {
          "output_type": "display_data",
          "data": {
            "image/png": "[encoded data removed]",
            "text/plain": [
              "<Figure size 432x288 with 1 Axes>"
            ]
          },
          "metadata": {
            "needs_background": "light"
          }
        }
      ],
      "source": [
        "# -*- coding: utf-8 -*-\n",
        "\"\"\"\n",
        "Created on Wed Jan 19 17:43:48 2022\n",
        "\n",
        "@author: sapir\n",
        "\"\"\"\n",
        "\n",
        "import numpy as np\n",
        "import pylab\n",
        "from scipy.optimize import curve_fit\n",
        "\n",
        "\"\"\"\n",
        "def sigmoid(x, a, b):\n",
        "     y = 1 / (1 + np.exp(-b*(x-a)))\n",
        "     return y\n",
        "\"\"\"\n",
        "def fsigmoid(x, a, b):\n",
        "    return 1.0 / (1.0 + np.exp(-a*(x-b)))\n",
        "\n",
        "\n",
        "xdata = np.array([400, 600, 800, 1000, 1200, 1400, 1600])\n",
        "ydata = np.array([0, 0, 0.13, 0.35, 0.75, 0.89, 0.91])\n",
        "\n",
        "popt, pcov = curve_fit(fsigmoid, xdata, ydata, method='dogbox', bounds=([0., 600.],[0.01, 1200.]))\n",
        "         \n",
        "# popt, pcov = curve_fit(sigmoid, xdata, ydata)\n",
        "# print(popt)\n",
        "\n",
        "x = np.linspace(-1, 2000, 50)\n",
        "y = fsigmoid(x, *popt)\n",
        "\n",
        "pylab.plot(xdata, ydata, 'o', label='data')\n",
        "pylab.plot(x,y, label='fit')\n",
        "pylab.ylim(0, 1.05)\n",
        "pylab.legend(loc='best')\n",
        "pylab.show()"
      ]
    }
  ]
}